{
 "cells": [
  {
   "cell_type": "code",
   "execution_count": 1,
   "id": "70ed7ee6-843b-4a2f-b507-dd7117760c0a",
   "metadata": {},
   "outputs": [
    {
     "name": "stderr",
     "output_type": "stream",
     "text": [
      "USER_AGENT environment variable not set, consider setting it to identify your requests.\n"
     ]
    }
   ],
   "source": [
    "import os\n",
    "import time\n",
    "import langchain\n",
    "from langchain.chains import RetrievalQAWithSourcesChain\n",
    "from langchain.text_splitter import RecursiveCharacterTextSplitter\n",
    "from langchain_huggingface import HuggingFaceEmbeddings\n",
    "from langchain_groq import ChatGroq\n",
    "from langchain_community.document_loaders import WebBaseLoader\n",
    "from createvector import VectorStore\n",
    "from dotenv import load_dotenv\n",
    "import matplotlib.pyplot as plt "
   ]
  },
  {
   "cell_type": "code",
   "execution_count": 2,
   "id": "c88e34db-c317-448e-8896-1ccc4bac227c",
   "metadata": {},
   "outputs": [],
   "source": [
    "load_dotenv()  # take environment variables from .env (especially openai api key)\n",
    "\n",
    "vs = VectorStore()# Global variable\n",
    "vectorstore = None"
   ]
  },
  {
   "cell_type": "code",
   "execution_count": 3,
   "id": "b171f7a3-5c9a-461c-b406-5eda29cec152",
   "metadata": {},
   "outputs": [
    {
     "name": "stdout",
     "output_type": "stream",
     "text": [
      "Data Loading...Started...✅✅✅\n",
      "Text Splitter...Started...✅✅✅\n",
      "Adding to collection\n",
      "Vector store loaded successfully\n",
      "<langchain_chroma.vectorstores.Chroma object at 0x7f81e5d8f1d0>\n",
      "<langchain_chroma.vectorstores.Chroma object at 0x7f81e5d8f1d0>\n",
      "Embedding Vector Started Building...✅✅✅\n"
     ]
    }
   ],
   "source": [
    "def update_vectorstore():\n",
    "    global vectorstore\n",
    "    loader = WebBaseLoader([\n",
    "    \"https://realpython.com/python-data-science/\",\n",
    "    #\"https://realpython.com/primer-on-python-decorators/\",\n",
    "    \"https://peps.python.org/\"\n",
    "])\n",
    "    print(\"Data Loading...Started...✅✅✅\")\n",
    "    data = loader.load()\n",
    "\n",
    "    # Split data\n",
    "    text_splitter = RecursiveCharacterTextSplitter(\n",
    "        separators=['\\n\\n', '\\n', '.', ','],\n",
    "        chunk_size=1000,\n",
    "        chunk_overlap=50\n",
    "    )\n",
    "    print(\"Text Splitter...Started...✅✅✅\")\n",
    "    docs = text_splitter.split_documents(data)\n",
    " \n",
    "    # Create embeddings and save to ChromaDB\n",
    "    embeddings = HuggingFaceEmbeddings(model_name=\"sentence-transformers/msmarco-MiniLM-L-12-v3\")\n",
    "    global vectorstore\n",
    "    # Assign the Chroma object to vectorstore\n",
    "    vectorstore = vs.loadVectorStore(docs, embeddings)  \n",
    "    print(vectorstore)\n",
    "    if vectorstore is None:\n",
    "        print(\"VectorStore has not been initialized. Please process the URLs first.>>process_url_clicked>>main.py\")\n",
    "    else:\n",
    "        print(vectorstore)\n",
    "    print(\"Embedding Vector Started Building...✅✅✅\")\n",
    "    \n",
    "\n",
    "# Call the function to update vectorstore\n",
    "update_vectorstore()"
   ]
  },
  {
   "cell_type": "code",
   "execution_count": 4,
   "id": "09b3f133-4eae-4dc7-b4ab-bd3dccadacb3",
   "metadata": {},
   "outputs": [],
   "source": [
    "def ask_question(query):\n",
    "    llm = ChatGroq(temperature=1, groq_api_key=os.environ[\"GROQ_API_KEY\"], model_name=\"llama-3.1-70b-versatile\")\n",
    "    chain = RetrievalQAWithSourcesChain.from_llm(llm=llm, retriever=vectorstore.as_retriever())\n",
    "    result = chain.invoke({\"question\": query}, return_only_outputs=True)\n",
    "    return result "
   ]
  },
  {
   "cell_type": "code",
   "execution_count": 5,
   "id": "0df16412-2f6c-4568-a3ca-222ea377744b",
   "metadata": {},
   "outputs": [],
   "source": [
    " test_data = [\n",
    "    {\n",
    "        \"question\": \"What is PEP in Python?\",\n",
    "        \"expected_answer\": \"PEP stands for Python Enhancement Proposal. It is a design document providing information to the Python community or describing new features or processes for Python.\",\n",
    "        \"relevant_sources\": [\"https://peps.python.org/\"]\n",
    "    },\n",
    "    {\n",
    "        \"question\": \"What are functions in python?\",\n",
    "        \"expected_answer\": \"Python functions are blocks of code that run only when they are called, programmed to return a specific task. They can take values called parameters and are helpful in performing repetitive tasks. The main types of functions in Python include built-in functions, user-defined functions, lambda functions, and recursive functions.\",\n",
    "        \"relevant_sources\": [\"https://www.geeksforgeeks.org/python-functions/\"]\n",
    "    },\n",
    "    {\n",
    "        \"question\": \"What are Python decorators?\",\n",
    "        \"expected_answer\": \"Decorators in Python are functions that modify the behavior of other functions or methods. They are applied using the '@' syntax above a function definition.\",\n",
    "        \"relevant_sources\": [\"https://realpython.com/primer-on-python-decorators/\"]\n",
    "    }\n",
    "]\n"
   ]
  },
  {
   "cell_type": "code",
   "execution_count": 6,
   "id": "4a63abd0-5568-46e1-b2d7-d76bc7d8c1c3",
   "metadata": {},
   "outputs": [],
   "source": [
    "from sklearn.metrics import precision_score, recall_score, f1_score\n",
    "from nltk.translate.bleu_score import sentence_bleu\n",
    "from rouge_score import rouge_scorer\n",
    "\n",
    "def evaluate_retrieval(true_sources, predicted_sources):\n",
    "    \"\"\"Calculate precision, recall, and F1-score for retrieval.\"\"\"\n",
    "    true_labels = [1 if source in true_sources else 0 for source in predicted_sources]\n",
    "    predicted_labels = [1] * len(predicted_sources)  # All predicted sources are considered relevant\n",
    "    precision = precision_score(true_labels, predicted_labels,zero_division=0)\n",
    "    recall = recall_score(true_labels, predicted_labels,zero_division=1)\n",
    "    f1 = f1_score(true_labels, predicted_labels,zero_division=1)\n",
    "\n",
    "    return precision, recall, f1\n",
    "\n",
    "def evaluate_answer(expected_answer, generated_answer):\n",
    "    \"\"\"Calculate BLEU and ROUGE scores for generated answers.\"\"\"\n",
    "    # BLEU score\n",
    "    bleu_score = sentence_bleu([expected_answer.split()], generated_answer.split())\n",
    "\n",
    "    # ROUGE scores\n",
    "    scorer = rouge_scorer.RougeScorer([\"rouge1\", \"rouge2\", \"rougeL\"], use_stemmer=True)\n",
    "    rouge_scores = scorer.score(expected_answer, generated_answer)\n",
    "    #display rouge_scores for each ts\n",
    "    print({\"rouge_scores\":rouge_scores})\n",
    "    return bleu_score, rouge_scores\n",
    "\n",
    "def measure_latency(func, ques):\n",
    "    \"\"\"Measure response latency for a function.\"\"\"\n",
    "    start_time = time.time()\n",
    "    result = func(ques)\n",
    "    latency = time.time() - start_time\n",
    "    print(ques)\n",
    "    print(result)\n",
    "    return latency, result"
   ]
  },
  {
   "cell_type": "code",
   "execution_count": 7,
   "id": "c51a4dfe-1fe1-4044-ba5a-05efeab6a78b",
   "metadata": {},
   "outputs": [],
   "source": [
    "def countdown(sec):\n",
    "    \"\"\"Counts down from the given number of seconds and prints each second.\"\"\"\n",
    "    print(f\"Wait period of {sec} seconds to make another llm call.\")  \n",
    "    for i in range(sec, 0, -1):  # Start at `sec`, end at 1, decrement by 1\n",
    "        time.sleep(1)  # Wait for 1 second\n"
   ]
  },
  {
   "cell_type": "code",
   "execution_count": 8,
   "id": "dd282c2c-2eca-468f-a76a-ccf34d57bbb9",
   "metadata": {},
   "outputs": [],
   "source": [
    "\n",
    "def evaluate_bot(test_data):\n",
    "    \"\"\"Evaluate the QA bot on a test dataset.\"\"\"\n",
    "    retrieval_metrics = []\n",
    "    answer_metrics = []\n",
    "    latencies = []\n",
    "    predicted_sources=[]\n",
    "    relevant_sources=[]\n",
    "    test_num=1\n",
    "    for test_case in test_data:\n",
    "        \n",
    "        print({\"test_num\":test_num})\n",
    "        test_num = test_num+1\n",
    "        question = test_case[\"question\"]\n",
    "        expected_answer = test_case[\"expected_answer\"]\n",
    "        relevant_source = test_case[\"relevant_sources\"]#for current test case\n",
    "        relevant_sources.extend(relevant_source)#for cummulative test cases ran till current iteration\n",
    "        # Measure latency and get response\n",
    "        latency, res = measure_latency(ask_question, question)\n",
    "        print({\"relevant_sources\":relevant_sources})\n",
    "       # print({\"Latency\":latency})\n",
    "        latencies.append(round(latency, 1))\n",
    "        \n",
    "        \n",
    "\n",
    "#         # Evaluate retrieval\n",
    "        source = res.get(\"sources\", [])\n",
    "        #print({\"predicted_source\":predicted_source})\n",
    "        predicted_source=[]\n",
    "        predicted_source.append(source)#for current test case\n",
    "       # print({\"predictedSources\":predicted_sources})\n",
    "        retrieval_metrics.append(\n",
    "            evaluate_retrieval(relevant_source, predicted_source)\n",
    "        )\n",
    "\n",
    "         # Evaluate answer quality\n",
    "        generated_answer = res[\"answer\"]\n",
    "        answer_metrics.append(\n",
    "            evaluate_answer(expected_answer, generated_answer)\n",
    "       )\n",
    "    \n",
    "\n",
    "    # Aggregate results\n",
    "    avg_latency = sum(latencies) / len(latencies)\n",
    "    avg_precision = sum([m[0] for m in retrieval_metrics]) / len(retrieval_metrics)\n",
    "    avg_recall = sum([m[1] for m in retrieval_metrics]) / len(retrieval_metrics)\n",
    "    avg_f1 = sum([m[2] for m in retrieval_metrics]) / len(retrieval_metrics)\n",
    "    avg_bleu = sum([m[0] for m in answer_metrics]) / len(answer_metrics)\n",
    "\n",
    "    print(\"Evaluation Results:\")\n",
    "    print(f\"Average Latency: {avg_latency:.2f}s\")\n",
    "    print(f\"Average Retrieval - Average Precision: {avg_precision:.2f},Average Recall: {avg_recall:.2f}, Average F1: {avg_f1:.2f}\")\n",
    "    print(f\"Answer Quality - BLEU: {avg_bleu:.2f}\")\n",
    "    # Call the function with the defined data\n",
    "    plot_metrics(latencies, retrieval_metrics)\n",
    "    return latencies, retrieval_metrics"
   ]
  },
  {
   "cell_type": "code",
   "execution_count": 9,
   "id": "85421e56-7f14-4a29-a59c-1d2cb9380f7d",
   "metadata": {},
   "outputs": [],
   "source": [
    "def plot_metrics(latencies, retrieval_metrics):\n",
    "    \"\"\"Plot evaluation metrics.\"\"\"\n",
    "    plt.figure(figsize=(10, 5))  # Create a figure with specified size\n",
    "    \n",
    "    # Plot Latencies Histogram\n",
    "    plt.subplot(1, 2, 1)  # Create a subplot (1 row, 2 columns, 1st position)\n",
    "    plt.hist(latencies, bins=10, color='blue', alpha=0.7)  # Plot histogram of latencies\n",
    "    plt.title(\"Response Latencies\")  # Title of the plot\n",
    "    plt.xlabel(\"Latency (s)\")  # X-axis label\n",
    "    plt.ylabel(\"Frequency\")  # Y-axis label\n",
    "    \n",
    "    # Plot Precision, Recall, F1\n",
    "    precisions = [m[0] for m in retrieval_metrics]  # Extract precision values\n",
    "    recalls = [m[1] for m in retrieval_metrics]  # Extract recall values\n",
    "    f1_scores = [m[2] for m in retrieval_metrics]  # Extract F1-score values\n",
    "    plt.subplot(1, 2, 2)  # Create a subplot (1 row, 2 columns, 2nd position)\n",
    "    plt.plot(precisions, label=\"Avg Precision\", marker='o')  # Plot precision\n",
    "    plt.plot(recalls, label=\"Avg Recall\", marker='o')  # Plot recall\n",
    "    plt.plot(f1_scores, label=\"Avg F1-Score\", marker='o')  # Plot F1-score\n",
    "    plt.title(\"Average Retrieval Metrics\")  # Title of the plot\n",
    "    plt.xlabel(\"Test Cases\")  # X-axis label\n",
    "    plt.ylabel(\"Score\")  # Y-axis label\n",
    "    plt.legend()  # Add a legend\n",
    "    \n",
    "    plt.tight_layout()  # Adjust layout to prevent overlap\n",
    "    plt.show()  # Display the plots\n",
    "\n",
    "   "
   ]
  },
  {
   "cell_type": "code",
   "execution_count": 10,
   "id": "9ef6cf96-99ca-48e5-abef-3e8e60fc1e80",
   "metadata": {},
   "outputs": [
    {
     "name": "stdout",
     "output_type": "stream",
     "text": [
      "{'test_num': 1}\n"
     ]
    },
    {
     "name": "stderr",
     "output_type": "stream",
     "text": [
      "Token indices sequence length is longer than the specified maximum sequence length for this model (2020 > 1024). Running this sequence through the model will result in indexing errors\n"
     ]
    },
    {
     "name": "stdout",
     "output_type": "stream",
     "text": [
      "What is PEP in Python?\n",
      "{'answer': 'PEP stands for Python Enhancement Proposal, which is a document that proposes a new feature or modification to the Python language, standard library, or development process.\\n', 'sources': 'https://peps.python.org/'}\n",
      "{'relevant_sources': ['https://peps.python.org/']}\n",
      "{'rouge_scores': {'rouge1': Score(precision=0.6538461538461539, recall=0.68, fmeasure=0.6666666666666666), 'rouge2': Score(precision=0.4, recall=0.4166666666666667, fmeasure=0.4081632653061225), 'rougeL': Score(precision=0.5384615384615384, recall=0.56, fmeasure=0.5490196078431373)}}\n",
      "{'test_num': 2}\n",
      "What are functions in python?\n",
      "{'answer': \"I don't know what functions in Python are based on the provided text.\\n\", 'sources': 'https://peps.python.org/'}\n",
      "{'relevant_sources': ['https://peps.python.org/', 'https://www.geeksforgeeks.org/python-functions/']}\n",
      "{'rouge_scores': {'rouge1': Score(precision=0.35714285714285715, recall=0.09803921568627451, fmeasure=0.15384615384615385), 'rouge2': Score(precision=0.15384615384615385, recall=0.04, fmeasure=0.0634920634920635), 'rougeL': Score(precision=0.21428571428571427, recall=0.058823529411764705, fmeasure=0.09230769230769231)}}\n",
      "{'test_num': 3}\n"
     ]
    },
    {
     "name": "stderr",
     "output_type": "stream",
     "text": [
      "/opt/conda/envs/playground-conda-env/lib/python3.11/site-packages/nltk/translate/bleu_score.py:577: UserWarning: \n",
      "The hypothesis contains 0 counts of 4-gram overlaps.\n",
      "Therefore the BLEU score evaluates to 0, independently of\n",
      "how many N-gram overlaps of lower order it contains.\n",
      "Consider using lower n-gram order or use SmoothingFunction()\n",
      "  warnings.warn(_msg)\n"
     ]
    },
    {
     "name": "stdout",
     "output_type": "stream",
     "text": [
      "What are Python decorators?\n",
      "{'answer': \"I don't know what Python decorators are based on the provided text.\\n\", 'sources': 'https://peps.python.org/'}\n",
      "{'relevant_sources': ['https://peps.python.org/', 'https://www.geeksforgeeks.org/python-functions/', 'https://realpython.com/primer-on-python-decorators/']}\n",
      "{'rouge_scores': {'rouge1': Score(precision=0.3076923076923077, recall=0.16666666666666666, fmeasure=0.21621621621621623), 'rouge2': Score(precision=0.0, recall=0.0, fmeasure=0.0), 'rougeL': Score(precision=0.23076923076923078, recall=0.125, fmeasure=0.16216216216216217)}}\n",
      "Evaluation Results:\n",
      "Average Latency: 12.27s\n",
      "Average Retrieval - Average Precision: 0.33,Average Recall: 1.00, Average F1: 0.33\n",
      "Answer Quality - BLEU: 0.07\n"
     ]
    },
    {
     "name": "stderr",
     "output_type": "stream",
     "text": [
      "/opt/conda/envs/playground-conda-env/lib/python3.11/site-packages/nltk/translate/bleu_score.py:577: UserWarning: \n",
      "The hypothesis contains 0 counts of 2-gram overlaps.\n",
      "Therefore the BLEU score evaluates to 0, independently of\n",
      "how many N-gram overlaps of lower order it contains.\n",
      "Consider using lower n-gram order or use SmoothingFunction()\n",
      "  warnings.warn(_msg)\n",
      "/opt/conda/envs/playground-conda-env/lib/python3.11/site-packages/nltk/translate/bleu_score.py:577: UserWarning: \n",
      "The hypothesis contains 0 counts of 3-gram overlaps.\n",
      "Therefore the BLEU score evaluates to 0, independently of\n",
      "how many N-gram overlaps of lower order it contains.\n",
      "Consider using lower n-gram order or use SmoothingFunction()\n",
      "  warnings.warn(_msg)\n",
      "/opt/conda/envs/playground-conda-env/lib/python3.11/site-packages/nltk/translate/bleu_score.py:577: UserWarning: \n",
      "The hypothesis contains 0 counts of 4-gram overlaps.\n",
      "Therefore the BLEU score evaluates to 0, independently of\n",
      "how many N-gram overlaps of lower order it contains.\n",
      "Consider using lower n-gram order or use SmoothingFunction()\n",
      "  warnings.warn(_msg)\n"
     ]
    },
    {
     "data": {
      "image/png": "[encoded data removed]",
      "text/plain": [
       "<Figure size 1000x500 with 2 Axes>"
      ]
     },
     "metadata": {},
     "output_type": "display_data"
    }
   ],
   "source": [
    "pm=evaluate_bot(test_data)"
   ]
  },
  {
   "cell_type": "code",
   "execution_count": 11,
   "id": "1b256bbf-101a-4f5d-9d48-630c4df63f5e",
   "metadata": {},
   "outputs": [],
   "source": [
    "latencies, retrieval_metrics=pm"
   ]
  },
  {
   "cell_type": "code",
   "execution_count": 12,
   "id": "bfe51e08-11f8-44f0-9027-db1df478bde0",
   "metadata": {},
   "outputs": [
    {
     "data": {
      "text/plain": [
       "[2.8, 5.6, 28.4]"
      ]
     },
     "execution_count": 12,
     "metadata": {},
     "output_type": "execute_result"
    }
   ],
   "source": [
    "latencies"
   ]
  },
  {
   "cell_type": "code",
   "execution_count": 13,
   "id": "1e282111-4816-4741-bfde-621140025cf4",
   "metadata": {},
   "outputs": [
    {
     "data": {
      "text/plain": [
       "[(1.0, 1.0, 1.0), (0.0, 1.0, 0.0), (0.0, 1.0, 0.0)]"
      ]
     },
     "execution_count": 13,
     "metadata": {},
     "output_type": "execute_result"
    }
   ],
   "source": [
    "retrieval_metrics"
   ]
  },
  {
   "cell_type": "code",
   "execution_count": null,
   "id": "739e836f-08f7-4736-96ef-7d4a0b2cbaf4",
   "metadata": {},
   "outputs": [],
   "source": []
  }
 ],
 "metadata": {
  "kernelspec": {
   "display_name": "Python 3 (ipykernel)",
   "language": "python",
   "name": "python3"
  },
  "language_info": {
   "codemirror_mode": {
    "name": "ipython",
    "version": 3
   },
   "file_extension": ".py",
   "mimetype": "text/x-python",
   "name": "python",
   "nbconvert_exporter": "python",
   "pygments_lexer": "ipython3",
   "version": "3.11.3"
  }
 },
 "nbformat": 4,
 "nbformat_minor": 5
}
